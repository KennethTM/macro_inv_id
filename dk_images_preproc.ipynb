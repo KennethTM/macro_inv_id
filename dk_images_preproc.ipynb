{
 "cells": [
  {
   "cell_type": "code",
   "execution_count": 2,
   "id": "984932fb",
   "metadata": {},
   "outputs": [],
   "source": [
    "from PIL import Image \n",
    "from pathlib import Path\n",
    "import os\n",
    "import pandas as pd\n"
   ]
  },
  {
   "cell_type": "code",
   "execution_count": 14,
   "id": "95dea113",
   "metadata": {},
   "outputs": [],
   "source": [
    "\n",
    "#Preprocess images to smaller size\n",
    "data_dir = Path(\"dk_bugs\")\n",
    "out_dir = Path(\"dk_bugs_preproc\")\n",
    "\n",
    "size = (640, 640)\n",
    "\n",
    "for img in data_dir.rglob('*.jpg'):\n",
    "        \n",
    "    _, taxon, file = img.parts\n",
    "    \n",
    "    dir_out = out_dir/taxon\n",
    "    image_out = out_dir/taxon/file\n",
    "\n",
    "    if not os.path.exists(dir_out):\n",
    "        os.mkdir(dir_out)\n",
    "\n",
    "    try:\n",
    "        image=Image.open(img)\n",
    "    except IOError as er:\n",
    "        print(er)\n",
    "        continue\n",
    "\n",
    "    if os.path.exists(image_out):\n",
    "        continue\n",
    "\n",
    "    image.thumbnail(size) \n",
    "    image.save(dir_out/file) "
   ]
  },
  {
   "cell_type": "code",
   "execution_count": null,
   "id": "c7a4d09e",
   "metadata": {},
   "outputs": [],
   "source": [
    "    \n",
    "\n",
    "    "
   ]
  },
  {
   "cell_type": "code",
   "execution_count": null,
   "id": "ef21d3bd",
   "metadata": {},
   "outputs": [],
   "source": []
  }
 ],
 "metadata": {
  "kernelspec": {
   "display_name": "Python 3 (ipykernel)",
   "language": "python",
   "name": "python3"
  },
  "language_info": {
   "codemirror_mode": {
    "name": "ipython",
    "version": 3
   },
   "file_extension": ".py",
   "mimetype": "text/x-python",
   "name": "python",
   "nbconvert_exporter": "python",
   "pygments_lexer": "ipython3",
   "version": "3.8.13"
  }
 },
 "nbformat": 4,
 "nbformat_minor": 5
}
