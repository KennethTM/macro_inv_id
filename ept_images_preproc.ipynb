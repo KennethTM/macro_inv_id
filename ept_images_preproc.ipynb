{
 "cells": [
  {
   "cell_type": "code",
   "execution_count": 1,
   "metadata": {},
   "outputs": [],
   "source": [
    "import cv2\n",
    "import glob\n",
    "import os\n",
    "import numpy as np\n",
    "from matplotlib import pyplot as plt\n",
    "import albumentations as A"
   ]
  },
  {
   "cell_type": "code",
   "execution_count": 3,
   "metadata": {},
   "outputs": [],
   "source": [
    "files = glob.glob(\"./ept_bugs/*/*.jpg\")\n",
    "#out_dir = \"./ept_bugs_preproc/\""
   ]
  },
  {
   "cell_type": "code",
   "execution_count": 4,
   "metadata": {},
   "outputs": [],
   "source": [
    "dirs = glob.glob(\"./ept_bugs/*\")\n",
    "\n",
    "for d in dirs:\n",
    "    d_new = d.replace(\"ept_bugs\", \"ept_bugs_preproc\")\n",
    "    \n",
    "    if not os.path.isdir(d_new):\n",
    "        os.mkdir(d_new)"
   ]
  },
  {
   "cell_type": "code",
   "execution_count": 6,
   "metadata": {},
   "outputs": [],
   "source": [
    "transforms = A.Compose([\n",
    "    A.LongestMaxSize(max_size=224, always_apply=True, interpolation = cv2.INTER_LINEAR),\n",
    "    A.PadIfNeeded(min_height=224, min_width=224, border_mode=cv2.BORDER_CONSTANT, always_apply=True)\n",
    "])"
   ]
  },
  {
   "cell_type": "code",
   "execution_count": 13,
   "metadata": {},
   "outputs": [
    {
     "name": "stdout",
     "output_type": "stream",
     "text": [
      "Image ./ept_bugs/Epeor/Epeor_33-specimen-i009-s056-e350.jpg is 0\n",
      "Image ./ept_bugs/Calib/Calib_2-specimen-i005-s056-e250.jpg is 0\n",
      "Image ./ept_bugs/Calib/Calib_26-specimen-i008-s056-e250.jpg is 0\n",
      "Image ./ept_bugs/Culop/Culop_6-specimen-i001-s056-e150.jpg is 0\n",
      "Image ./ept_bugs/Atops/Atops_70-specimen-i003-s056-e350.jpg is 0\n",
      "Image ./ept_bugs/Asiop/Asiop_75-specimen-i004-s056-e150.jpg is 0\n",
      "Image ./ept_bugs/Meg/Meg_29-specimen-i008-s056-e250.jpg is 0\n",
      "Image ./ept_bugs/Fallc/Fallc_63-specimen-i001-s056-e150.jpg is 0\n",
      "Image ./ept_bugs/Cerat/Cerat_78-specimen-i008-s056-e250.jpg is 0\n",
      "Image ./ept_bugs/Cerat/Cerat_85-specimen-i008-s056-e250.jpg is 0\n",
      "Image ./ept_bugs/Cerat/Cerat_94-specimen-i005-s056-e250.jpg is 0\n",
      "Image ./ept_bugs/Cerat/Cerat_94-specimen-i002-s056-e250.jpg is 0\n",
      "Image ./ept_bugs/Cerat/Cerat_90-specimen-i003-s056-e350.jpg is 0\n",
      "Image ./ept_bugs/Baets/Baets_33-specimen-i008-s056-e250.jpg is 0\n",
      "Image ./ept_bugs/Baets/Baets_1-specimen-i001-s056-e150.jpg is 0\n"
     ]
    }
   ],
   "source": [
    "for i in files:\n",
    "    \n",
    "    file_out = i.replace(\"ept_bugs\", \"ept_bugs_preproc\")\n",
    "    \n",
    "    if os.path.isfile(file_out):\n",
    "        continue\n",
    "    \n",
    "    img = cv2.imread(i)\n",
    "    img = cv2.cvtColor(img, cv2.COLOR_BGR2RGB)\n",
    "    \n",
    "    median = cv2.medianBlur(img, 5)\n",
    "    hsv = cv2.cvtColor(median, cv2.COLOR_RGB2HSV)\n",
    "    mask = cv2.inRange(hsv, (100, 0, 0), (140, 255,255))\n",
    "    kernel = np.ones((5,5), np.uint8)\n",
    "    mask_inv = 255 - mask\n",
    "    mask_dilate = cv2.dilate(mask_inv, kernel, iterations=5)\n",
    "    num_labels, labels, stats, centroids = cv2.connectedComponentsWithStats(mask_dilate, connectivity=8)\n",
    "    stats_no_bg = stats[1:,]\n",
    "    sizes = stats_no_bg[:,-1]\n",
    "    \n",
    "    if sizes.size == 0:\n",
    "        print(\"Image \"+ i +\" is 0\")\n",
    "        continue\n",
    "    \n",
    "    bbox = stats_no_bg[np.argmax(sizes)]\n",
    "    \n",
    "    dim = mask_dilate.shape\n",
    "    pad_constant = 100\n",
    "    \n",
    "    top = bbox[1] - pad_constant\n",
    "    bottom = bbox[1] + bbox[3] + pad_constant\n",
    "    left = bbox[0] - pad_constant\n",
    "    right = bbox[0] + bbox[2] + pad_constant\n",
    "    \n",
    "    width = right-left\n",
    "    height = bottom-top\n",
    "    dim_diff = abs(height - width)\n",
    "    pad = dim_diff//2\n",
    "    \n",
    "    uneven_corr = 0 if (dim_diff % 2) == 0 else 1\n",
    "\n",
    "    if height > width:\n",
    "        right = right+pad+uneven_corr\n",
    "        left = left-pad\n",
    "        \n",
    "    if height < width:\n",
    "        top = top-pad\n",
    "        bottom = bottom+pad+uneven_corr\n",
    "        \n",
    "    if top < 0:\n",
    "        top = 0\n",
    "        \n",
    "    if bottom > dim[0]:\n",
    "        bottom = dim[0]\n",
    "        \n",
    "    if right > dim[1]:\n",
    "        right = dim[0]\n",
    "        \n",
    "    if left < 0:\n",
    "        left = 0\n",
    "    \n",
    "    img_crop = img[top:bottom, left:right, :]\n",
    "    \n",
    "    if img_crop.size == 0:\n",
    "        print(\"Image \"+ i +\" is 0\")\n",
    "        continue\n",
    "    \n",
    "    img_trans = transforms(image=img_crop)\n",
    "        \n",
    "    img_out = cv2.cvtColor(img_trans[\"image\"], cv2.COLOR_RGB2BGR)\n",
    "    cv2.imwrite(file_out, img_out)"
   ]
  },
  {
   "cell_type": "code",
   "execution_count": null,
   "metadata": {},
   "outputs": [],
   "source": []
  }
 ],
 "metadata": {
  "kernelspec": {
   "display_name": "Python 3 (ipykernel)",
   "language": "python",
   "name": "python3"
  },
  "language_info": {
   "codemirror_mode": {
    "name": "ipython",
    "version": 3
   },
   "file_extension": ".py",
   "mimetype": "text/x-python",
   "name": "python",
   "nbconvert_exporter": "python",
   "pygments_lexer": "ipython3",
   "version": "3.8.13"
  }
 },
 "nbformat": 4,
 "nbformat_minor": 4
}
