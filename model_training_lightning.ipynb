{
 "cells": [
  {
   "cell_type": "code",
   "execution_count": 1,
   "id": "7ca43652",
   "metadata": {},
   "outputs": [],
   "source": [
    "#https://github.com/Lightning-AI/lightning/blob/master/examples/pl_domain_templates/computer_vision_fine_tuning.py"
   ]
  },
  {
   "cell_type": "code",
   "execution_count": 13,
   "id": "7d00932f",
   "metadata": {},
   "outputs": [],
   "source": [
    "from pathlib import Path\n",
    "\n",
    "import torch\n",
    "from torch import nn, optim\n",
    "from torch.optim.lr_scheduler import MultiStepLR\n",
    "from torch.utils.data import DataLoader, WeightedRandomSampler\n",
    "from torchmetrics.classification import MulticlassAccuracy, MulticlassF1Score, Accuracy, F1Score\n",
    "from torchvision import transforms\n",
    "from torchvision.datasets import ImageFolder\n",
    "\n",
    "import pytorch_lightning as pl\n",
    "from pytorch_lightning import LightningDataModule, LightningModule\n",
    "from pytorch_lightning.callbacks import BaseFinetuning\n",
    "from pytorch_lightning.utilities import rank_zero_info\n",
    "\n",
    "import timm\n",
    "\n",
    "import numpy as np"
   ]
  },
  {
   "cell_type": "code",
   "execution_count": 15,
   "id": "1229fdca",
   "metadata": {},
   "outputs": [],
   "source": [
    "class ImageDataModule(pl.LightningDataModule):\n",
    "    def __init__(self, data_dir, batch_size = 32, num_workers = 0, size = 224):\n",
    "        super().__init__()\n",
    "        \n",
    "        self.data_dir = data_dir\n",
    "        self.batch_size = batch_size\n",
    "        self.num_workers = num_workers\n",
    "        self.size = size\n",
    "\n",
    "    def setup(self, stage):\n",
    "        \n",
    "        self.train_transform = transforms.Compose(\n",
    "            [\n",
    "                transforms.ToTensor(),\n",
    "                transforms.RandomResizedCrop((self.size, self.size)),\n",
    "                transforms.RandomRotation(90, interpolation=transforms.InterpolationMode.BILINEAR),\n",
    "                transforms.RandomHorizontalFlip(p=0.25),\n",
    "                transforms.RandomVerticalFlip(p=0.25),\n",
    "                transforms.RandomAutocontrast(p=0.25),\n",
    "                transforms.RandomPerspective(p=0.25),\n",
    "                transforms.Normalize(mean=[0.485, 0.456, 0.406], std=[0.229, 0.224, 0.225]),\n",
    "            ]\n",
    "        )\n",
    "\n",
    "\n",
    "        self.valid_transform = transforms.Compose(\n",
    "                    [\n",
    "                        transforms.ToTensor(),\n",
    "                        transforms.Resize(size = self.size), \n",
    "                        transforms.CenterCrop(size = self.size),\n",
    "                        transforms.Normalize(mean=[0.485, 0.456, 0.406], std=[0.229, 0.224, 0.225])\n",
    "                    ]\n",
    "        )\n",
    "\n",
    "        self.train_ds = ImageFolder(root=path/\"train\", transform=self.train_transform)\n",
    "        self.valid_ds = ImageFolder(root=path/\"valid\", transform=self.valid_transform)\n",
    "        \n",
    "        self.class_to_idx = self.train_ds.class_to_idx\n",
    "        self.classes = self.train_ds.classes\n",
    "        self.targets = self.train_ds.targets\n",
    "        self.num_classes = len(self.classes)\n",
    "        \n",
    "        targets_np = np.array(self.targets)\n",
    "        class_count = np.array([len(np.where(targets_np == t)[0]) for t in np.unique(targets_np)])\n",
    "        self.class_weight = torch.tensor(1.0 / class_count).float()\n",
    "        self.sample_weight = torch.tensor([self.class_weight[t] for t in targets_np])\n",
    "        self.sampler = WeightedRandomSampler(self.sample_weight, len(self.sample_weight))\n",
    "        \n",
    "    def train_dataloader(self):\n",
    "        \n",
    "        return DataLoader(self.train_ds, \n",
    "                          batch_size=self.batch_size, \n",
    "                          num_workers=self.num_workers,\n",
    "                          sampler = self.sampler)\n",
    "\n",
    "    def val_dataloader(self):\n",
    "        \n",
    "        return DataLoader(self.valid_ds, \n",
    "                          batch_size=self.batch_size,\n",
    "                          num_workers=self.num_workers,\n",
    "                          shuffle=False)"
   ]
  },
  {
   "cell_type": "code",
   "execution_count": 37,
   "id": "84b2b323",
   "metadata": {},
   "outputs": [],
   "source": [
    "class TransferLearningModel(LightningModule):\n",
    "    def __init__(self, backbone = \"resnet18\", num_classes = 10, milestones = (5, 10),\n",
    "                 class_weight = None, lr = 1e-3, lr_scheduler_gamma = 1e-1):\n",
    "        \n",
    "        super().__init__()\n",
    "        \n",
    "        self.backbone = backbone\n",
    "        self.lr = lr\n",
    "        self.lr_scheduler_gamma = lr_scheduler_gamma\n",
    "        self.num_classes = num_classes\n",
    "        self.milestones = milestones\n",
    "\n",
    "        self.model = timm.create_model(self.backbone, pretrained=True, num_classes=self.num_classes)\n",
    "        \n",
    "        self.loss = nn.CrossEntropyLoss(weight=class_weight)\n",
    "        self.softmax = nn.Softmax(dim=1)\n",
    "\n",
    "        self.train_acc = Accuracy(task='multiclass', num_classes=self.num_classes, top_k=1)\n",
    "        self.val_acc = Accuracy(task='multiclass', num_classes=self.num_classes, top_k=1)\n",
    "\n",
    "        #self.f1 = F1Score(num_classes=self.num_classes)\n",
    "        \n",
    "        self.save_hyperparameters()\n",
    "\n",
    "    def forward(self, x):\n",
    "\n",
    "        x = self.model(x)\n",
    "\n",
    "        return x\n",
    "\n",
    "    def training_step(self, batch, batch_idx):\n",
    "\n",
    "        x, y = batch\n",
    "        y_logits = self.forward(x)\n",
    "\n",
    "        train_loss = self.loss(y_logits, y)\n",
    "\n",
    "        y_scores = self.softmax(y_logits)\n",
    "\n",
    "        self.log(\"train_loss\", train_loss, prog_bar=True)\n",
    "        self.log(\"train_acc\", self.train_acc(y_scores, y), prog_bar=True)\n",
    "        #self.log(\"train_f1\", self.f1(y_scores, y.int()))\n",
    "\n",
    "        return train_loss\n",
    "\n",
    "    def validation_step(self, batch, batch_idx):\n",
    "\n",
    "        x, y = batch\n",
    "        y_logits = self.forward(x)\n",
    "        \n",
    "        y_scores = self.softmax(y_logits)\n",
    "\n",
    "        self.log(\"val_loss\", self.loss(y_logits, y), prog_bar=True)\n",
    "        self.log(\"val_acc\", self.val_acc(y_scores, y), prog_bar=True)\n",
    "        #self.log(\"val_f1\", self.f1(y_scores, y.int()))\n",
    "\n",
    "    def configure_optimizers(self):\n",
    "        \n",
    "        optimizer = optim.Adam(self.model.parameters(), lr=self.lr)\n",
    "        scheduler = MultiStepLR(optimizer, milestones=self.milestones, gamma=self.lr_scheduler_gamma,\n",
    "                                verbose = True)\n",
    "        \n",
    "        return [optimizer], [scheduler]\n"
   ]
  },
  {
   "cell_type": "code",
   "execution_count": 38,
   "id": "63fdfd72",
   "metadata": {
    "scrolled": true
   },
   "outputs": [
    {
     "name": "stderr",
     "output_type": "stream",
     "text": [
      "Using 16bit native Automatic Mixed Precision (AMP)\n",
      "GPU available: True, used: True\n",
      "TPU available: False, using: 0 TPU cores\n",
      "IPU available: False, using: 0 IPUs\n"
     ]
    }
   ],
   "source": [
    "dm = ImageDataModule(data_dir = path, batch_size = 32, num_workers = 8)\n",
    "dm.setup(stage=\"fit\")\n",
    "\n",
    "model = TransferLearningModel(backbone = \"resnet18\", \n",
    "                              num_classes = dm.num_classes, \n",
    "                              class_weight= None, \n",
    "                              lr=1e-3, \n",
    "                              milestones=(5, 10)) #dm.class_weight\n",
    "\n",
    "trainer = pl.Trainer(accelerator='gpu', \n",
    "                     devices=1,\n",
    "                     max_epochs=15, \n",
    "                     precision=16)"
   ]
  },
  {
   "cell_type": "code",
   "execution_count": 39,
   "id": "b5ba23ab",
   "metadata": {
    "scrolled": true
   },
   "outputs": [
    {
     "name": "stderr",
     "output_type": "stream",
     "text": [
      "LOCAL_RANK: 0 - CUDA_VISIBLE_DEVICES: [0]\n",
      "\n",
      "  | Name      | Type               | Params\n",
      "-------------------------------------------------\n",
      "0 | model     | ResNet             | 11.2 M\n",
      "1 | loss      | CrossEntropyLoss   | 0     \n",
      "2 | softmax   | Softmax            | 0     \n",
      "3 | train_acc | MulticlassAccuracy | 0     \n",
      "4 | val_acc   | MulticlassAccuracy | 0     \n",
      "-------------------------------------------------\n",
      "11.2 M    Trainable params\n",
      "0         Non-trainable params\n",
      "11.2 M    Total params\n",
      "22.381    Total estimated model params size (MB)\n"
     ]
    },
    {
     "name": "stdout",
     "output_type": "stream",
     "text": [
      "Adjusting learning rate of group 0 to 1.0000e-03.\n"
     ]
    },
    {
     "data": {
      "application/vnd.jupyter.widget-view+json": {
       "model_id": "",
       "version_major": 2,
       "version_minor": 0
      },
      "text/plain": [
       "Validation sanity check: 0it [00:00, ?it/s]"
      ]
     },
     "metadata": {},
     "output_type": "display_data"
    },
    {
     "data": {
      "application/vnd.jupyter.widget-view+json": {
       "model_id": "7e52ccf5a6bc4591a75fa69ab15cfa97",
       "version_major": 2,
       "version_minor": 0
      },
      "text/plain": [
       "Training: 0it [00:00, ?it/s]"
      ]
     },
     "metadata": {},
     "output_type": "display_data"
    },
    {
     "name": "stdout",
     "output_type": "stream",
     "text": [
      "Adjusting learning rate of group 0 to 1.0000e-03.\n"
     ]
    },
    {
     "data": {
      "application/vnd.jupyter.widget-view+json": {
       "model_id": "",
       "version_major": 2,
       "version_minor": 0
      },
      "text/plain": [
       "Validating: 0it [00:00, ?it/s]"
      ]
     },
     "metadata": {},
     "output_type": "display_data"
    },
    {
     "name": "stdout",
     "output_type": "stream",
     "text": [
      "Adjusting learning rate of group 0 to 1.0000e-03.\n"
     ]
    },
    {
     "data": {
      "application/vnd.jupyter.widget-view+json": {
       "model_id": "",
       "version_major": 2,
       "version_minor": 0
      },
      "text/plain": [
       "Validating: 0it [00:00, ?it/s]"
      ]
     },
     "metadata": {},
     "output_type": "display_data"
    },
    {
     "name": "stdout",
     "output_type": "stream",
     "text": [
      "Adjusting learning rate of group 0 to 1.0000e-03.\n"
     ]
    },
    {
     "data": {
      "application/vnd.jupyter.widget-view+json": {
       "model_id": "",
       "version_major": 2,
       "version_minor": 0
      },
      "text/plain": [
       "Validating: 0it [00:00, ?it/s]"
      ]
     },
     "metadata": {},
     "output_type": "display_data"
    },
    {
     "name": "stdout",
     "output_type": "stream",
     "text": [
      "Adjusting learning rate of group 0 to 1.0000e-03.\n"
     ]
    },
    {
     "data": {
      "application/vnd.jupyter.widget-view+json": {
       "model_id": "",
       "version_major": 2,
       "version_minor": 0
      },
      "text/plain": [
       "Validating: 0it [00:00, ?it/s]"
      ]
     },
     "metadata": {},
     "output_type": "display_data"
    }
   ],
   "source": [
    "trainer.fit(model, dm)"
   ]
  },
  {
   "cell_type": "code",
   "execution_count": null,
   "id": "daf057af",
   "metadata": {},
   "outputs": [],
   "source": []
  }
 ],
 "metadata": {
  "kernelspec": {
   "display_name": "Python 3 (ipykernel)",
   "language": "python",
   "name": "python3"
  },
  "language_info": {
   "codemirror_mode": {
    "name": "ipython",
    "version": 3
   },
   "file_extension": ".py",
   "mimetype": "text/x-python",
   "name": "python",
   "nbconvert_exporter": "python",
   "pygments_lexer": "ipython3",
   "version": "3.8.12"
  }
 },
 "nbformat": 4,
 "nbformat_minor": 5
}
